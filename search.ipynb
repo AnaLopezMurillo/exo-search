{
 "cells": [
  {
   "cell_type": "markdown",
   "metadata": {},
   "source": [
    "## Exo-Search : Searches for and returns exoplanet data"
   ]
  },
  {
   "cell_type": "code",
   "execution_count": 8,
   "metadata": {},
   "outputs": [
    {
     "name": "stdout",
     "output_type": "stream",
     "text": [
      "Defaulting to user installation because normal site-packages is not writeable\n",
      "Requirement already satisfied: etta in /Users/anaisabellopezmurillo/Library/Python/3.9/lib/python/site-packages (0.1.1)\n",
      "Requirement already satisfied: setuptools>=41.0.0 in /Library/Developer/CommandLineTools/Library/Frameworks/Python3.framework/Versions/3.9/lib/python3.9/site-packages (from etta) (58.0.4)\n",
      "Requirement already satisfied: requests>=2.23.0 in /Users/anaisabellopezmurillo/Library/Python/3.9/lib/python/site-packages (from etta) (2.32.3)\n",
      "Requirement already satisfied: pandas>=1.0.0 in /Users/anaisabellopezmurillo/Library/Python/3.9/lib/python/site-packages (from etta) (2.2.3)\n",
      "Requirement already satisfied: numpy>=1.22.4 in /Users/anaisabellopezmurillo/Library/Python/3.9/lib/python/site-packages (from pandas>=1.0.0->etta) (2.0.2)\n",
      "Requirement already satisfied: python-dateutil>=2.8.2 in /Users/anaisabellopezmurillo/Library/Python/3.9/lib/python/site-packages (from pandas>=1.0.0->etta) (2.8.2)\n",
      "Requirement already satisfied: tzdata>=2022.7 in /Users/anaisabellopezmurillo/Library/Python/3.9/lib/python/site-packages (from pandas>=1.0.0->etta) (2025.1)\n",
      "Requirement already satisfied: pytz>=2020.1 in /Users/anaisabellopezmurillo/Library/Python/3.9/lib/python/site-packages (from pandas>=1.0.0->etta) (2024.2)\n",
      "Requirement already satisfied: six>=1.5 in /Library/Developer/CommandLineTools/Library/Frameworks/Python3.framework/Versions/3.9/lib/python3.9/site-packages (from python-dateutil>=2.8.2->pandas>=1.0.0->etta) (1.15.0)\n",
      "Requirement already satisfied: urllib3<3,>=1.21.1 in /Users/anaisabellopezmurillo/Library/Python/3.9/lib/python/site-packages (from requests>=2.23.0->etta) (2.3.0)\n",
      "Requirement already satisfied: idna<4,>=2.5 in /Users/anaisabellopezmurillo/Library/Python/3.9/lib/python/site-packages (from requests>=2.23.0->etta) (3.10)\n",
      "Requirement already satisfied: certifi>=2017.4.17 in /Users/anaisabellopezmurillo/Library/Python/3.9/lib/python/site-packages (from requests>=2.23.0->etta) (2024.12.14)\n",
      "Requirement already satisfied: charset-normalizer<4,>=2 in /Users/anaisabellopezmurillo/Library/Python/3.9/lib/python/site-packages (from requests>=2.23.0->etta) (3.4.1)\n",
      "\u001b[33mWARNING: You are using pip version 21.2.4; however, version 25.0 is available.\n",
      "You should consider upgrading via the '/Library/Developer/CommandLineTools/usr/bin/python3 -m pip install --upgrade pip' command.\u001b[0m\n",
      "Note: you may need to restart the kernel to use updated packages.\n",
      "Defaulting to user installation because normal site-packages is not writeable\n",
      "Collecting astroquery\n",
      "  Downloading astroquery-0.4.9.post1-py3-none-any.whl (11.1 MB)\n",
      "\u001b[K     |████████████████████████████████| 11.1 MB 974 kB/s eta 0:00:01\n",
      "\u001b[?25hCollecting html5lib>=0.999\n",
      "  Using cached html5lib-1.1-py2.py3-none-any.whl (112 kB)\n",
      "Collecting pyvo>=1.5\n",
      "  Downloading pyvo-1.6-py3-none-any.whl (994 kB)\n",
      "\u001b[K     |████████████████████████████████| 994 kB 18.6 MB/s eta 0:00:01\n",
      "\u001b[?25hRequirement already satisfied: numpy>=1.20 in /Users/anaisabellopezmurillo/Library/Python/3.9/lib/python/site-packages (from astroquery) (2.0.2)\n",
      "Collecting astropy>=5.0\n",
      "  Downloading astropy-6.0.1-cp39-cp39-macosx_11_0_arm64.whl (6.4 MB)\n",
      "\u001b[K     |████████████████████████████████| 6.4 MB 12.2 MB/s eta 0:00:01\n",
      "\u001b[?25hCollecting keyring>=15.0\n",
      "  Downloading keyring-25.6.0-py3-none-any.whl (39 kB)\n",
      "Collecting beautifulsoup4>=4.8\n",
      "  Downloading beautifulsoup4-4.12.3-py3-none-any.whl (147 kB)\n",
      "\u001b[K     |████████████████████████████████| 147 kB 14.8 MB/s eta 0:00:01\n",
      "\u001b[?25hRequirement already satisfied: requests>=2.19 in /Users/anaisabellopezmurillo/Library/Python/3.9/lib/python/site-packages (from astroquery) (2.32.3)\n",
      "Collecting numpy>=1.20\n",
      "  Downloading numpy-1.26.4-cp39-cp39-macosx_11_0_arm64.whl (14.0 MB)\n",
      "\u001b[K     |████████████████████████████████| 14.0 MB 16.5 MB/s eta 0:00:01\n",
      "\u001b[?25hCollecting astropy-iers-data>=0.2024.2.26.0.28.55\n",
      "  Downloading astropy_iers_data-0.2025.1.27.0.32.44-py3-none-any.whl (1.9 MB)\n",
      "\u001b[K     |████████████████████████████████| 1.9 MB 15.8 MB/s eta 0:00:01\n",
      "\u001b[?25hRequirement already satisfied: packaging>=19.0 in /Users/anaisabellopezmurillo/Library/Python/3.9/lib/python/site-packages (from astropy>=5.0->astroquery) (23.2)\n",
      "Collecting pyerfa>=2.0.1.1\n",
      "  Downloading pyerfa-2.0.1.5-cp39-abi3-macosx_11_0_arm64.whl (329 kB)\n",
      "\u001b[K     |████████████████████████████████| 329 kB 12.1 MB/s eta 0:00:01\n",
      "\u001b[?25hCollecting PyYAML>=3.13\n",
      "  Downloading PyYAML-6.0.2-cp39-cp39-macosx_11_0_arm64.whl (172 kB)\n",
      "\u001b[K     |████████████████████████████████| 172 kB 13.9 MB/s eta 0:00:01\n",
      "\u001b[?25hCollecting soupsieve>1.2\n",
      "  Downloading soupsieve-2.6-py3-none-any.whl (36 kB)\n",
      "Requirement already satisfied: six>=1.9 in /Library/Developer/CommandLineTools/Library/Frameworks/Python3.framework/Versions/3.9/lib/python3.9/site-packages (from html5lib>=0.999->astroquery) (1.15.0)\n",
      "Collecting webencodings\n",
      "  Using cached webencodings-0.5.1-py2.py3-none-any.whl (11 kB)\n",
      "Requirement already satisfied: importlib_metadata>=4.11.4 in /Users/anaisabellopezmurillo/Library/Python/3.9/lib/python/site-packages (from keyring>=15.0->astroquery) (6.8.0)\n",
      "Collecting jaraco.context\n",
      "  Downloading jaraco.context-6.0.1-py3-none-any.whl (6.8 kB)\n",
      "Collecting jaraco.functools\n",
      "  Downloading jaraco.functools-4.1.0-py3-none-any.whl (10 kB)\n",
      "Collecting jaraco.classes\n",
      "  Downloading jaraco.classes-3.4.0-py3-none-any.whl (6.8 kB)\n",
      "Requirement already satisfied: zipp>=0.5 in /Users/anaisabellopezmurillo/Library/Python/3.9/lib/python/site-packages (from importlib_metadata>=4.11.4->keyring>=15.0->astroquery) (3.17.0)\n",
      "Requirement already satisfied: certifi>=2017.4.17 in /Users/anaisabellopezmurillo/Library/Python/3.9/lib/python/site-packages (from requests>=2.19->astroquery) (2024.12.14)\n",
      "Requirement already satisfied: urllib3<3,>=1.21.1 in /Users/anaisabellopezmurillo/Library/Python/3.9/lib/python/site-packages (from requests>=2.19->astroquery) (2.3.0)\n",
      "Requirement already satisfied: idna<4,>=2.5 in /Users/anaisabellopezmurillo/Library/Python/3.9/lib/python/site-packages (from requests>=2.19->astroquery) (3.10)\n",
      "Requirement already satisfied: charset-normalizer<4,>=2 in /Users/anaisabellopezmurillo/Library/Python/3.9/lib/python/site-packages (from requests>=2.19->astroquery) (3.4.1)\n",
      "Collecting more-itertools\n",
      "  Downloading more_itertools-10.6.0-py3-none-any.whl (63 kB)\n",
      "\u001b[K     |████████████████████████████████| 63 kB 2.3 MB/s  eta 0:00:01\n",
      "\u001b[?25hCollecting backports.tarfile\n",
      "  Downloading backports.tarfile-1.2.0-py3-none-any.whl (30 kB)\n",
      "Installing collected packages: numpy, PyYAML, pyerfa, more-itertools, backports.tarfile, astropy-iers-data, webencodings, soupsieve, jaraco.functools, jaraco.context, jaraco.classes, astropy, pyvo, keyring, html5lib, beautifulsoup4, astroquery\n",
      "  Attempting uninstall: numpy\n",
      "    Found existing installation: numpy 2.0.2\n",
      "    Uninstalling numpy-2.0.2:\n",
      "      Successfully uninstalled numpy-2.0.2\n",
      "Successfully installed PyYAML-6.0.2 astropy-6.0.1 astropy-iers-data-0.2025.1.27.0.32.44 astroquery-0.4.9.post1 backports.tarfile-1.2.0 beautifulsoup4-4.12.3 html5lib-1.1 jaraco.classes-3.4.0 jaraco.context-6.0.1 jaraco.functools-4.1.0 keyring-25.6.0 more-itertools-10.6.0 numpy-1.26.4 pyerfa-2.0.1.5 pyvo-1.6 soupsieve-2.6 webencodings-0.5.1\n",
      "\u001b[33mWARNING: You are using pip version 21.2.4; however, version 25.0 is available.\n",
      "You should consider upgrading via the '/Library/Developer/CommandLineTools/usr/bin/python3 -m pip install --upgrade pip' command.\u001b[0m\n",
      "Note: you may need to restart the kernel to use updated packages.\n"
     ]
    }
   ],
   "source": [
    "%pip install etta\n",
    "%pip install astroquery"
   ]
  },
  {
   "cell_type": "code",
   "execution_count": 1,
   "metadata": {},
   "outputs": [],
   "source": [
    "import etta\n",
    "from astroquery.ipac.nexsci.nasa_exoplanet_archive import NasaExoplanetArchive\n"
   ]
  },
  {
   "cell_type": "code",
   "execution_count": 4,
   "metadata": {},
   "outputs": [],
   "source": [
    "input = 837 # replace with TOI"
   ]
  },
  {
   "cell_type": "code",
   "execution_count": 7,
   "metadata": {},
   "outputs": [
    {
     "name": "stdout",
     "output_type": "stream",
     "text": [
      "Fetching data from https://exofop.ipac.caltech.edu/tess/download_toi.php?output=pipe&toi=127\n"
     ]
    },
    {
     "data": {
      "text/html": [
       "<div>\n",
       "<style scoped>\n",
       "    .dataframe tbody tr th:only-of-type {\n",
       "        vertical-align: middle;\n",
       "    }\n",
       "\n",
       "    .dataframe tbody tr th {\n",
       "        vertical-align: top;\n",
       "    }\n",
       "\n",
       "    .dataframe thead th {\n",
       "        text-align: right;\n",
       "    }\n",
       "</style>\n",
       "<table border=\"1\" class=\"dataframe\">\n",
       "  <thead>\n",
       "    <tr style=\"text-align: right;\">\n",
       "      <th></th>\n",
       "      <th>TIC ID</th>\n",
       "      <th>Previous CTOI</th>\n",
       "      <th>Master</th>\n",
       "      <th>SG1A</th>\n",
       "      <th>SG1B</th>\n",
       "      <th>SG2</th>\n",
       "      <th>SG3</th>\n",
       "      <th>SG4</th>\n",
       "      <th>SG5</th>\n",
       "      <th>ESM</th>\n",
       "      <th>...</th>\n",
       "      <th>Stellar Radius (R_Sun) err</th>\n",
       "      <th>Stellar Metallicity</th>\n",
       "      <th>Stellar Metallicity err</th>\n",
       "      <th>Stellar Mass (M_Sun)</th>\n",
       "      <th>Stellar Mass (M_Sun) err</th>\n",
       "      <th>Sectors</th>\n",
       "      <th>Date TOI Alerted (UTC)</th>\n",
       "      <th>Date TOI Updated (UTC)</th>\n",
       "      <th>Date Modified</th>\n",
       "      <th>Comments</th>\n",
       "    </tr>\n",
       "    <tr>\n",
       "      <th>TOI</th>\n",
       "      <th></th>\n",
       "      <th></th>\n",
       "      <th></th>\n",
       "      <th></th>\n",
       "      <th></th>\n",
       "      <th></th>\n",
       "      <th></th>\n",
       "      <th></th>\n",
       "      <th></th>\n",
       "      <th></th>\n",
       "      <th></th>\n",
       "      <th></th>\n",
       "      <th></th>\n",
       "      <th></th>\n",
       "      <th></th>\n",
       "      <th></th>\n",
       "      <th></th>\n",
       "      <th></th>\n",
       "      <th></th>\n",
       "      <th></th>\n",
       "      <th></th>\n",
       "    </tr>\n",
       "  </thead>\n",
       "  <tbody>\n",
       "    <tr>\n",
       "      <th>127.01</th>\n",
       "      <td>234523599</td>\n",
       "      <td>NaN</td>\n",
       "      <td>5</td>\n",
       "      <td>5</td>\n",
       "      <td>5</td>\n",
       "      <td>5</td>\n",
       "      <td>4</td>\n",
       "      <td>5</td>\n",
       "      <td>5</td>\n",
       "      <td>34.9</td>\n",
       "      <td>...</td>\n",
       "      <td>0.01356</td>\n",
       "      <td>NaN</td>\n",
       "      <td>NaN</td>\n",
       "      <td>0.44159</td>\n",
       "      <td>0.02052</td>\n",
       "      <td>1,2,28,29</td>\n",
       "      <td>2018-11-14</td>\n",
       "      <td>2021-12-09</td>\n",
       "      <td>2022-12-14 12:09:24</td>\n",
       "      <td>HATS-71 b</td>\n",
       "    </tr>\n",
       "  </tbody>\n",
       "</table>\n",
       "<p>1 rows × 61 columns</p>\n",
       "</div>"
      ],
      "text/plain": [
       "           TIC ID  Previous CTOI  Master  SG1A  SG1B  SG2  SG3  SG4  SG5  \\\n",
       "TOI                                                                        \n",
       "127.01  234523599            NaN       5     5     5    5    4    5    5   \n",
       "\n",
       "         ESM  ...  Stellar Radius (R_Sun) err  Stellar Metallicity  \\\n",
       "TOI           ...                                                    \n",
       "127.01  34.9  ...                     0.01356                  NaN   \n",
       "\n",
       "        Stellar Metallicity err  Stellar Mass (M_Sun)  \\\n",
       "TOI                                                     \n",
       "127.01                      NaN               0.44159   \n",
       "\n",
       "        Stellar Mass (M_Sun) err    Sectors Date TOI Alerted (UTC)  \\\n",
       "TOI                                                                  \n",
       "127.01                   0.02052  1,2,28,29             2018-11-14   \n",
       "\n",
       "        Date TOI Updated (UTC)        Date Modified   Comments  \n",
       "TOI                                                             \n",
       "127.01              2021-12-09  2022-12-14 12:09:24  HATS-71 b  \n",
       "\n",
       "[1 rows x 61 columns]"
      ]
     },
     "execution_count": 7,
     "metadata": {},
     "output_type": "execute_result"
    }
   ],
   "source": [
    "etta.download_toi(toi=127)"
   ]
  },
  {
   "cell_type": "code",
   "execution_count": 2,
   "metadata": {},
   "outputs": [
    {
     "name": "stderr",
     "output_type": "stream",
     "text": [
      "WARNING: Unrecognized unit: 'hour' for column pl_trandur. [astroquery.ipac.nexsci.nasa_exoplanet_archive.core]\n",
      "WARNING: Unrecognized unit: 'hour' for column pl_trandurerr1. [astroquery.ipac.nexsci.nasa_exoplanet_archive.core]\n",
      "WARNING: Unrecognized unit: 'hour' for column pl_trandurerr2. [astroquery.ipac.nexsci.nasa_exoplanet_archive.core]\n",
      "WARNING: column st_lum has a unit but is kept as a MaskedColumn as an attempt to convert it to Quantity failed with:\n",
      "UnitTypeError(\"MaskedQuantity instances require normal units, not <class 'astropy.units.function.logarithmic.DexUnit'> instances.\") [astropy.table.table]\n",
      "WARNING: column st_lumerr1 has a unit but is kept as a MaskedColumn as an attempt to convert it to Quantity failed with:\n",
      "UnitTypeError(\"MaskedQuantity instances require normal units, not <class 'astropy.units.function.logarithmic.DexUnit'> instances.\") [astropy.table.table]\n",
      "WARNING: column st_lumerr2 has a unit but is kept as a MaskedColumn as an attempt to convert it to Quantity failed with:\n",
      "UnitTypeError(\"MaskedQuantity instances require normal units, not <class 'astropy.units.function.logarithmic.DexUnit'> instances.\") [astropy.table.table]\n",
      "WARNING: column st_logg has a unit but is kept as a MaskedColumn as an attempt to convert it to Quantity failed with:\n",
      "UnitTypeError(\"MaskedQuantity instances require normal units, not <class 'astropy.units.function.logarithmic.DexUnit'> instances.\") [astropy.table.table]\n",
      "WARNING: column st_loggerr1 has a unit but is kept as a MaskedColumn as an attempt to convert it to Quantity failed with:\n",
      "UnitTypeError(\"MaskedQuantity instances require normal units, not <class 'astropy.units.function.logarithmic.DexUnit'> instances.\") [astropy.table.table]\n",
      "WARNING: column st_loggerr2 has a unit but is kept as a MaskedColumn as an attempt to convert it to Quantity failed with:\n",
      "UnitTypeError(\"MaskedQuantity instances require normal units, not <class 'astropy.units.function.logarithmic.DexUnit'> instances.\") [astropy.table.table]\n"
     ]
    }
   ],
   "source": [
    "planet = NasaExoplanetArchive.query_object(\"K2-18 b\")"
   ]
  },
  {
   "cell_type": "code",
   "execution_count": 3,
   "metadata": {},
   "outputs": [
    {
     "name": "stdout",
     "output_type": "stream",
     "text": [
      "pl_name pl_letter hostname ... sy_kmagerr1 sy_kmagerr2      sky_coord      \n",
      "                           ...     mag         mag           deg,deg       \n",
      "------- --------- -------- ... ----------- ----------- --------------------\n",
      "K2-18 b         b    K2-18 ...       0.019      -0.019 172.560141,7.5878315\n",
      "K2-18 b         b    K2-18 ...       0.019      -0.019 172.560141,7.5878315\n",
      "K2-18 b         b    K2-18 ...       0.019      -0.019 172.560141,7.5878315\n",
      "K2-18 b         b    K2-18 ...       0.019      -0.019 172.560141,7.5878315\n",
      "K2-18 b         b    K2-18 ...       0.019      -0.019 172.560141,7.5878315\n",
      "K2-18 b         b    K2-18 ...       0.019      -0.019 172.560141,7.5878315\n",
      "K2-18 b         b    K2-18 ...       0.019      -0.019 172.560141,7.5878315\n",
      "K2-18 b         b    K2-18 ...       0.019      -0.019 172.560141,7.5878315\n",
      "K2-18 b         b    K2-18 ...       0.019      -0.019 172.560141,7.5878315\n",
      "K2-18 b         b    K2-18 ...       0.019      -0.019 172.560141,7.5878315\n"
     ]
    }
   ],
   "source": [
    "print(planet)\n"
   ]
  },
  {
   "cell_type": "code",
   "execution_count": null,
   "metadata": {},
   "outputs": [],
   "source": []
  }
 ],
 "metadata": {
  "kernelspec": {
   "display_name": "Python 3",
   "language": "python",
   "name": "python3"
  },
  "language_info": {
   "codemirror_mode": {
    "name": "ipython",
    "version": 3
   },
   "file_extension": ".py",
   "mimetype": "text/x-python",
   "name": "python",
   "nbconvert_exporter": "python",
   "pygments_lexer": "ipython3",
   "version": "3.10.1"
  }
 },
 "nbformat": 4,
 "nbformat_minor": 2
}
