{
 "cells": [
  {
   "cell_type": "markdown",
   "metadata": {},
   "source": [
    "## Exo-Search : Searches for and returns exoplanet data"
   ]
  },
  {
   "cell_type": "code",
   "execution_count": null,
   "metadata": {},
   "outputs": [
    {
     "ename": "",
     "evalue": "",
     "output_type": "error",
     "traceback": [
      "\u001b[1;31mRunning cells with 'Python 3.12.7' requires the ipykernel package.\n",
      "\u001b[1;31mRun the following command to install 'ipykernel' into the Python environment. \n",
      "\u001b[1;31mCommand: '/opt/homebrew/bin/python3.12 -m pip install ipykernel -U --user --force-reinstall'"
     ]
    }
   ],
   "source": [
    "\n",
    "%pip install etta\n",
    "%pip install astroquery\n",
    "%pip install exofop"
   ]
  },
  {
   "cell_type": "code",
   "execution_count": 1,
   "metadata": {},
   "outputs": [
    {
     "name": "stderr",
     "output_type": "stream",
     "text": [
      "/Users/anaisabellopezmurillo/Library/Python/3.9/lib/python/site-packages/urllib3/__init__.py:35: NotOpenSSLWarning: urllib3 v2 only supports OpenSSL 1.1.1+, currently the 'ssl' module is compiled with 'LibreSSL 2.8.3'. See: https://github.com/urllib3/urllib3/issues/3020\n",
      "  warnings.warn(\n"
     ]
    },
    {
     "ename": "ModuleNotFoundError",
     "evalue": "No module named 'exofop'",
     "output_type": "error",
     "traceback": [
      "\u001b[0;31m---------------------------------------------------------------------------\u001b[0m",
      "\u001b[0;31mModuleNotFoundError\u001b[0m                       Traceback (most recent call last)",
      "Cell \u001b[0;32mIn[1], line 3\u001b[0m\n\u001b[1;32m      1\u001b[0m \u001b[38;5;28;01mimport\u001b[39;00m \u001b[38;5;21;01metta\u001b[39;00m\n\u001b[1;32m      2\u001b[0m \u001b[38;5;28;01mfrom\u001b[39;00m \u001b[38;5;21;01mastroquery\u001b[39;00m\u001b[38;5;21;01m.\u001b[39;00m\u001b[38;5;21;01mipac\u001b[39;00m\u001b[38;5;21;01m.\u001b[39;00m\u001b[38;5;21;01mnexsci\u001b[39;00m\u001b[38;5;21;01m.\u001b[39;00m\u001b[38;5;21;01mnasa_exoplanet_archive\u001b[39;00m \u001b[38;5;28;01mimport\u001b[39;00m NasaExoplanetArchive\n\u001b[0;32m----> 3\u001b[0m \u001b[38;5;28;01mimport\u001b[39;00m \u001b[38;5;21;01mexofop\u001b[39;00m\n\u001b[1;32m      4\u001b[0m \u001b[38;5;28;01mfrom\u001b[39;00m \u001b[38;5;21;01mexofop\u001b[39;00m\u001b[38;5;21;01m.\u001b[39;00m\u001b[38;5;21;01mdownload\u001b[39;00m \u001b[38;5;28;01mimport\u001b[39;00m System, SystemDownloader\n",
      "\u001b[0;31mModuleNotFoundError\u001b[0m: No module named 'exofop'"
     ]
    }
   ],
   "source": [
    "import etta\n",
    "from astroquery.ipac.nexsci.nasa_exoplanet_archive import NasaExoplanetArchive\n",
    "import exofop\n",
    "from exofop.download import System, SystemDownloader\n"
   ]
  },
  {
   "cell_type": "code",
   "execution_count": null,
   "metadata": {},
   "outputs": [],
   "source": [
    "input = 837 # replace with TOI\n",
    "\n",
    "data_dir = \"./tmp\"\n",
    "\n",
    "system = System(\"TOI 1130\")  # or system = System(\"TIC 12345678\")\n",
    "system_loader = SystemDownloader(\n",
    "    system=system,\n",
    "    data_dir=data_dir,\n",
    ")\n",
    "\n",
    "tags = system_loader.time_series.tags\n",
    "system_loader.download(tags[:5], unzip=True)\n"
   ]
  },
  {
   "cell_type": "code",
   "execution_count": 4,
   "metadata": {},
   "outputs": [
    {
     "name": "stdout",
     "output_type": "stream",
     "text": [
      "Fetching data from https://exofop.ipac.caltech.edu/tess/download_toi.php?output=pipe&toi=6551\n"
     ]
    }
   ],
   "source": [
    "toi = etta.download_toi(toi=6551)"
   ]
  },
  {
   "cell_type": "code",
   "execution_count": 11,
   "metadata": {},
   "outputs": [
    {
     "name": "stdout",
     "output_type": "stream",
     "text": [
      "Index(['TIC ID', 'Previous CTOI', 'Master', 'SG1A', 'SG1B', 'SG2', 'SG3',\n",
      "       'SG4', 'SG5', 'ESM', 'TSM', 'Predicted Mass (M_Earth)',\n",
      "       'Time Series Observations', 'Spectroscopy Observations',\n",
      "       'Imaging Observations', 'TESS Disposition', 'TFOPWG Disposition',\n",
      "       'TESS Mag', 'TESS Mag err', 'Planet Name', 'Pipeline Signal ID',\n",
      "       'Source', 'Detection', 'RA', 'Dec', 'PM RA (mas/yr)',\n",
      "       'PM RA err (mas/yr)', 'PM Dec (mas/yr)', 'PM Dec err (mas/yr)',\n",
      "       'Epoch (BJD)', 'Epoch (BJD) err', 'Period (days)', 'Period (days) err',\n",
      "       'Duration (hours)', 'Duration (hours) err', 'Depth (mmag)',\n",
      "       'Depth (mmag) err', 'Depth (ppm)', 'Depth (ppm) err',\n",
      "       'Planet Radius (R_Earth)', 'Planet Radius (R_Earth) err',\n",
      "       'Planet Insolation (Earth Flux)', 'Planet Equil Temp (K)', 'Planet SNR',\n",
      "       'Stellar Distance (pc)', 'Stellar Distance (pc) err',\n",
      "       'Stellar Eff Temp (K)', 'Stellar Eff Temp (K) err',\n",
      "       'Stellar log(g) (cm/s^2)', 'Stellar log(g) (cm/s^2) err',\n",
      "       'Stellar Radius (R_Sun)', 'Stellar Radius (R_Sun) err',\n",
      "       'Stellar Metallicity', 'Stellar Metallicity err',\n",
      "       'Stellar Mass (M_Sun)', 'Stellar Mass (M_Sun) err', 'Sectors',\n",
      "       'Date TOI Alerted (UTC)', 'Date TOI Updated (UTC)', 'Date Modified',\n",
      "       'Comments'],\n",
      "      dtype='object')\n",
      "TOI\n",
      "6551.01    6.959397\n",
      "Name: Period (days), dtype: float64\n"
     ]
    }
   ],
   "source": [
    "print(toi.columns)\n",
    "print(toi['Period (days)'])"
   ]
  },
  {
   "cell_type": "code",
   "execution_count": 2,
   "metadata": {},
   "outputs": [],
   "source": [
    "planet = NasaExoplanetArchive.query_object(\"HIP 67522 b\")"
   ]
  },
  {
   "cell_type": "code",
   "execution_count": 3,
   "metadata": {},
   "outputs": [
    {
     "name": "stdout",
     "output_type": "stream",
     "text": [
      "  pl_name   pl_letter  hostname  hd_name   hip_name     tic_id              gaia_id            default_flag                                                              pl_refname                                                                                                                    sy_refname                                                       disc_pubdate disc_year discoverymethod disc_locale                disc_facility                 disc_instrument    disc_telescope                                                                disc_refname                                                                 ra        rastr         dec         decstr       glon     glat      elon      elat   pl_orbper pl_orbpererr1 pl_orbpererr2 pl_orbperlim                                                                pl_orbperstr                                                               pl_orblpererr1 pl_orblper pl_orblpererr2 pl_orblperlim                                                          pl_orblperstr                                                          pl_orbsmax pl_orbsmaxerr1 pl_orbsmaxerr2 pl_orbsmaxlim pl_orbsmaxstr pl_orbincl pl_orbinclerr1 pl_orbinclerr2 pl_orbincllim                                                         pl_orbinclstr                                                          pl_orbtper pl_orbtpererr1 pl_orbtpererr2 pl_orbtperlim pl_orbtperstr pl_orbeccen pl_orbeccenerr1 pl_orbeccenerr2 pl_orbeccenlim                                                            pl_orbeccenstr                                                           pl_eqt pl_eqterr1 pl_eqterr2 pl_eqtlim                                                         pl_eqtstr                                                         pl_occdep pl_occdeperr1 pl_occdeperr2 pl_occdeplim pl_occdepstr        pl_insol             pl_insolerr1           pl_insolerr2      pl_insollim pl_insolstr pl_dens pl_denserr1 pl_denserr2 pl_denslim pl_densstr pl_trandep pl_trandeperr1 pl_trandeperr2 pl_trandeplim pl_trandepstr   pl_tranmid  pl_tranmiderr1 pl_tranmiderr2 pl_tranmidlim                                                                pl_tranmidstr                                                                 pl_trandur pl_trandurerr1 pl_trandurerr2 pl_trandurlim                                                          pl_trandurstr                                                               sy_kmagstr     sy_umag sy_umagerr1 sy_umagerr2 sy_umagstr sy_rmag sy_rmagerr1 sy_rmagerr2 sy_rmagstr sy_imag sy_imagerr1 sy_imagerr2 sy_imagstr sy_zmag sy_zmagerr1 sy_zmagerr2 sy_zmagstr sy_w1mag sy_w1magerr1 sy_w1magerr2    sy_w1magstr     sy_w2mag sy_w2magerr1 sy_w2magerr2    sy_w2magstr     sy_w3mag sy_w3magerr1 sy_w3magerr2    sy_w3magstr     sy_w4mag sy_w4magerr1 sy_w4magerr2    sy_w4magstr     sy_gmag sy_gmagerr1 sy_gmagerr2 sy_gmagstr sy_gaiamag sy_gaiamagerr1 sy_gaiamagerr2      sy_gaiamagstr       sy_tmag sy_tmagerr1 sy_tmagerr2      sy_tmagstr      pl_controv_flag pl_tsystemref st_metratio st_spectype sy_kepmag sy_kepmagerr1 sy_kepmagerr2 sy_kepmagstr st_rotp st_rotperr1 st_rotperr2 st_rotplim     st_rotpstr     pl_projobliq pl_projobliqerr1 pl_projobliqerr2 pl_projobliqlim pl_projobliqstr          x                   y                   z            htm20    pl_rvamp pl_rvamperr1 pl_rvamperr2 pl_rvamplim pl_rvampstr  pl_radj   pl_radjerr1 pl_radjerr2 pl_radjlim      pl_radjstr      pl_rade  pl_radeerr1 pl_radeerr2 pl_radelim     pl_radestr    pl_ratror pl_ratrorerr1 pl_ratrorerr2 pl_ratrorlim                                                             pl_ratrorstr                                                            pl_ratdor pl_trueobliq pl_trueobliqerr1 pl_trueobliqerr2 pl_trueobliqlim pl_trueobliqstr sy_icmag sy_icmagerr1 sy_icmagerr2 sy_icmagstr rowupdate  pl_pubdate                                                              st_refname                                                              releasedate dkin_flag pl_ratdorerr1 pl_ratdorerr2 pl_ratdorlim                                                          pl_ratdorstr                                                          pl_imppar pl_impparerr1 pl_impparerr2 pl_impparlim                                                           pl_impparstr                                                            pl_cmassj  pl_cmassjerr1 pl_cmassjerr2 pl_cmassjlim pl_cmassjstr pl_cmasse pl_cmasseerr1 pl_cmasseerr2 pl_cmasselim pl_cmassestr   pl_massj  pl_massjerr1 pl_massjerr2 pl_massjlim pl_massjstr  pl_masse pl_masseerr1 pl_masseerr2 pl_masselim pl_massestr  pl_bmassj  pl_bmassjerr1 pl_bmassjerr2 pl_bmassjlim pl_bmassjstr pl_bmasse pl_bmasseerr1 pl_bmasseerr2 pl_bmasselim pl_bmassestr pl_bmassprov  pl_msinij  pl_msinijerr1 pl_msinijerr2 pl_msinijlim pl_msinijstr pl_msinie pl_msinieerr1 pl_msinieerr2 pl_msinielim pl_msiniestr st_teff st_tefferr1 st_tefferr2 st_tefflim   st_teffstr   st_met st_meterr1 st_meterr2 st_metlim st_metstr st_radv st_radverr1 st_radverr2 st_radvlim    st_radvstr    st_vsin st_vsinerr1 st_vsinerr2 st_vsinlim    st_vsinstr      st_lum    st_lumerr1  st_lumerr2 st_lumlim                                                            st_lumstr                                                               st_logg    st_loggerr1  st_loggerr2  st_logglim st_loggstr st_age st_ageerr1 st_ageerr2 st_agelim     st_agestr      st_mass st_masserr1 st_masserr2 st_masslim    st_massstr    st_dens st_denserr1 st_denserr2 st_denslim    st_densstr    st_rad st_raderr1 st_raderr2 st_radlim    st_radstr     ttv_flag ptv_flag tran_flag rv_flag ast_flag obm_flag micro_flag etv_flag ima_flag pul_flag       soltype       sy_snum sy_pnum sy_mnum cb_flag st_nphot st_nrvc st_nspec pl_nespec pl_ntranspec pl_ndispec pl_nnotes   sy_pm    sy_pmerr1 sy_pmerr2            sy_pmstr          sy_pmra  sy_pmraerr1 sy_pmraerr2         sy_pmrastr         sy_pmdec sy_pmdecerr1 sy_pmdecerr2        sy_pmdecstr         sy_plx sy_plxerr1 sy_plxerr2         sy_plxstr          sy_dist sy_disterr1 sy_disterr2                                                             sy_diststr                                                             sy_bmag sy_bmagerr1 sy_bmagerr2      sy_bmagstr     sy_vmag sy_vmagerr1 sy_vmagerr2    sy_vmagstr    sy_jmag sy_jmagerr1 sy_jmagerr2     sy_jmagstr     sy_hmag sy_hmagerr1 sy_hmagerr2     sy_hmagstr     sy_kmag sy_kmagerr1 sy_kmagerr2       sky_coord       \n",
      "                                                                                                                                                                                                                                                                                                                                                                                                                                                                                                                                                                                                                                                     deg                      deg                      deg      deg       deg       deg        d           d             d                                                                                                                                                                   deg          deg          deg                                                                                                                                                         AU           AU             AU                                      deg          deg            deg                                                                                                                                                        d            d              d                                                                                                                                                                                                                                     K        K          K                                                                                                                                              %           %             %                                 0.0795775 solLum / AU2 0.0795775 solLum / AU2 0.0795775 solLum / AU2                         g / cm3   g / cm3     g / cm3                             %            %              %                                          d             d              d                                                                                                                                                                       h            h              h                                                                                                                                                                            mag       mag         mag                  mag       mag         mag                  mag       mag         mag                  mag       mag         mag                  mag        mag          mag                           mag        mag          mag                           mag        mag          mag                           mag        mag          mag                           mag       mag         mag                   mag          mag            mag                                  mag       mag         mag                                                                                   mag         mag           mag                      d         d           d                                        deg            deg              deg                                                                                                                m / s      m / s        m / s                             jupiterRad  jupiterRad  jupiterRad                                 earthRad   earthRad    earthRad                                                                                                                                                                                                                                    deg            deg              deg                                          mag        mag          mag                                                                                                                                                                                                                                                                                                                                                                                                                                                                                                                                                               jupiterMass  jupiterMass   jupiterMass                            earthMass   earthMass     earthMass                             jupiterMass jupiterMass  jupiterMass                          earthMass  earthMass    earthMass                           jupiterMass  jupiterMass   jupiterMass                            earthMass   earthMass     earthMass                                          jupiterMass  jupiterMass   jupiterMass                            earthMass   earthMass     earthMass                                K         K           K                                 dex      dex        dex                          km / s    km / s      km / s                                km / s    km / s      km / s                              dex(solLum) dex(solLum) dex(solLum)                                                                                                                                            dex(cm / s2) dex(cm / s2) dex(cm / s2)                        Gyr      Gyr        Gyr                                    Msun      Msun        Msun                                g / cm3   g / cm3     g / cm3                                Rsun     Rsun       Rsun                                                                                                                                                                                                                                                      mas / yr   mas / yr  mas / yr                              mas / yr   mas / yr    mas / yr                             mas / yr   mas / yr     mas / yr                               mas      mas        mas                                   pc        pc          pc                                                                                                                                          mag       mag         mag                           mag       mag         mag                        mag       mag         mag                          mag       mag         mag                          mag       mag         mag            deg,deg        \n",
      "----------- --------- --------- --------- --------- ------------- ---------------------------- ------------ ------------------------------------------------------------------------------------------------------------------------------------ ---------------------------------------------------------------------------------------------------------------------- ------------ --------- --------------- ----------- -------------------------------------------- --------------- -------------------- ------------------------------------------------------------------------------------------------------------------------------------ ---------- ------------ ----------- ------------- --------- -------- --------- --------- --------- ------------- ------------- ------------ ----------------------------------------------------------------------------------------------------------------------------------------- -------------- ---------- -------------- ------------- ------------------------------------------------------------------------------------------------------------------------------- ---------- -------------- -------------- ------------- ------------- ---------- -------------- -------------- ------------- ------------------------------------------------------------------------------------------------------------------------------ ---------- -------------- -------------- ------------- ------------- ----------- --------------- --------------- -------------- ----------------------------------------------------------------------------------------------------------------------------------- ------ ---------- ---------- --------- ------------------------------------------------------------------------------------------------------------------------- --------- ------------- ------------- ------------ ------------ ---------------------- ---------------------- ---------------------- ----------- ----------- ------- ----------- ----------- ---------- ---------- ---------- -------------- -------------- ------------- ------------- ------------- -------------- -------------- ------------- -------------------------------------------------------------------------------------------------------------------------------------------- ---------- -------------- -------------- ------------- -------------------------------------------------------------------------------------------------------------------------------- ------------------ ------- ----------- ----------- ---------- ------- ----------- ----------- ---------- ------- ----------- ----------- ---------- ------- ----------- ----------- ---------- -------- ------------ ------------ ------------------ -------- ------------ ------------ ------------------ -------- ------------ ------------ ------------------ -------- ------------ ------------ ------------------ ------- ----------- ----------- ---------- ---------- -------------- -------------- ------------------------ ------- ----------- ----------- -------------------- --------------- ------------- ----------- ----------- --------- ------------- ------------- ------------ ------- ----------- ----------- ---------- ------------------ ------------ ---------------- ---------------- --------------- --------------- ------------------- ------------------- ------------------- ---------- -------- ------------ ------------ ----------- ----------- ---------- ----------- ----------- ---------- -------------------- -------- ----------- ----------- ---------- ----------------- --------- ------------- ------------- ------------ ----------------------------------------------------------------------------------------------------------------------------------- --------- ------------ ---------------- ---------------- --------------- --------------- -------- ------------ ------------ ----------- ---------- ---------- ------------------------------------------------------------------------------------------------------------------------------------ ----------- --------- ------------- ------------- ------------ ------------------------------------------------------------------------------------------------------------------------------ --------- ------------- ------------- ------------ -------------------------------------------------------------------------------------------------------------------------------- ----------- ------------- ------------- ------------ ------------ --------- ------------- ------------- ------------ ------------ ----------- ------------ ------------ ----------- ----------- --------- ------------ ------------ ----------- ----------- ----------- ------------- ------------- ------------ ------------ --------- ------------- ------------- ------------ ------------ ------------ ----------- ------------- ------------- ------------ ------------ --------- ------------- ------------- ------------ ------------ ------- ----------- ----------- ---------- -------------- ------ ---------- ---------- --------- --------- ------- ----------- ----------- ---------- ---------------- ------- ----------- ----------- ---------- --------------- ----------- ----------- ----------- --------- -------------------------------------------------------------------------------------------------------------------------------- ------------ ------------ ------------ ---------- ---------- ------ ---------- ---------- --------- ------------------ ------- ----------- ----------- ---------- ---------------- ------- ----------- ----------- ---------- ---------------- ------ ---------- ---------- --------- ---------------- -------- -------- --------- ------- -------- -------- ---------- -------- -------- -------- ------------------- ------- ------- ------- ------- -------- ------- -------- --------- ------------ ---------- --------- ---------- --------- ---------- --------------------------- -------- ----------- ----------- -------------------------- -------- ------------ ------------ -------------------------- ------ ---------- ---------- -------------------------- ------- ----------- ----------- ---------------------------------------------------------------------------------------------------------------------------------- ------- ----------- ----------- ------------------- ------- ----------- ----------- ---------------- ------- ----------- ----------- ------------------ ------- ----------- ----------- ------------------ ------- ----------- ----------- ----------------------\n",
      "HIP 67522 b         b HIP 67522 HD 120411 HIP 67522 TIC 166527623 Gaia DR2 6113920619134019456            0 <a refstr=RIZZUTO_ET_AL__2020 href=https://ui.adsabs.harvard.edu/abs/2020AJ....160...33R/abstract target=ref>Rizzuto et al. 2020</a> <a refstr=STASSUN_ET_AL__2019 href=https://ui.adsabs.harvard.edu/abs/2019AJ....158..138S/abstract target=ref>TICv8</a>      2020-07      2020         Transit       Space Transiting Exoplanet Survey Satellite (TESS)  TESS CCD Array 0.1 m TESS Telescope <a refstr=RIZZUTO_ET_AL__2020 href=https://ui.adsabs.harvard.edu/abs/2020AJ....160...33R/abstract target=ref>Rizzuto et al. 2020</a> 207.526001 13h50m06.24s -40.8358961 -40d50m09.23s 314.74755 20.68599 220.88251 -27.44205  6.959503       1.6e-05      -1.5e-05            0 <div><span class=\"supersubNumber\">6.959503</span><span class=\"superscript\">+0.000016</span><span class=\"subscript\">-0.000015</span></div>           92.0      -17.0         -149.0             0 <div><span class=\"supersubNumber\">-17.0</span><span class=\"superscript\">+92.0</span><span class=\"subscript\">-149.0</span></div>        nan            nan            nan             0                    89.34           0.45          -0.54             0 <div><span class=\"supersubNumber\">89.34</span><span class=\"superscript\">+0.45</span><span class=\"subscript\">-0.54</span></div>        nan            nan            nan             0                     0.059           0.193          -0.046              0 <div><span class=\"supersubNumber\">0.0590</span><span class=\"superscript\">+0.1930</span><span class=\"subscript\">-0.0460</span></div> 1174.0       21.0      -20.0         0 <div><span class=\"supersubNumber\">1174</span><span class=\"superscript\">+21</span><span class=\"subscript\">-20</span></div>       nan           nan           nan            0                                 nan                    nan                    nan           0                 nan         nan         nan          0                   nan            nan            nan             0               2458604.02371        0.00036       -0.00037             0 <div><span class=\"supersubNumber\">2458604.02371</span><span class=\"superscript\">+0.00036</span><span class=\"subscript\">-0.00037</span></div>      4.822          0.021         -0.019             0 <div><span class=\"supersubNumber\">4.822</span><span class=\"superscript\">+0.021</span><span class=\"subscript\">-0.019</span></div> 8.164&plusmn;0.026     nan         nan         nan                nan         nan         nan                nan         nan         nan                nan         nan         nan               8.108        0.022       -0.022 8.108&plusmn;0.022    8.122        0.019       -0.019 8.122&plusmn;0.019    8.077        0.018       -0.018 8.077&plusmn;0.018    8.121        0.186       -0.186 8.121&plusmn;0.186     nan         nan         nan               9.63261       0.002283      -0.002283 9.632610&plusmn;0.002283  9.1871      0.0064     -0.0064 9.1871&plusmn;0.0064               0           BJD                               nan           nan           nan                 1.42        0.02       -0.02          0 1.418&plusmn;0.016          nan              nan              nan               0                 -0.6709409601890752 -0.3496568329804865 -0.6538947370109488 -193571194      nan          nan          nan           0                  0.898       0.042      -0.042          0 0.8984&plusmn;0.0419    10.07        0.47       -0.47          0 10.07&plusmn;0.47    0.0667        0.0012       -0.0011            0 <div><span class=\"supersubNumber\">0.0667</span><span class=\"superscript\">+0.0012</span><span class=\"subscript\">-0.0011</span></div>      11.7          nan              nan              nan               0                      nan          nan          nan             2020-07-17    2020-07 <a refstr=RIZZUTO_ET_AL__2020 href=https://ui.adsabs.harvard.edu/abs/2020AJ....160...33R/abstract target=ref>Rizzuto et al. 2020</a>  2020-07-23         0          0.24         -0.27            0 <div><span class=\"supersubNumber\">11.70</span><span class=\"superscript\">+0.24</span><span class=\"subscript\">-0.27</span></div>     0.134         0.106        -0.092            0 <div><span class=\"supersubNumber\">0.134</span><span class=\"superscript\">+0.106</span><span class=\"subscript\">-0.092</span></div>         nan           nan           nan            0                    nan           nan           nan            0                      nan          nan          nan           0                   nan          nan          nan           0                     nan           nan           nan            0                    nan           nan           nan            0                                   nan           nan           nan            0                    nan           nan           nan            0               5675.0        75.0       -75.0          0 5675&plusmn;75    0.0        nan        nan         0         0    7.41        0.25       -0.25          0 7.41&plusmn;0.25    54.2         0.7        -0.7          0 54.2&plusmn;0.7       0.243       0.022      -0.023         0 <div><span class=\"supersubNumber\">0.243</span><span class=\"superscript\">+0.022</span><span class=\"subscript\">-0.023</span></div>          nan          nan          nan          0             0.017      0.002     -0.002         0 0.017&plusmn;0.002    1.22        0.05       -0.05          0 1.22&plusmn;0.05    0.65        0.08       -0.08          0 0.65&plusmn;0.08   1.38       0.06      -0.06         0 1.38&plusmn;0.06        1        0         1       0        0        0          0        0        0        0 Published Confirmed       1       2       0       0        1       0        0         0            3          0         0 36.5344663 0.1075291 -0.1075291 36.5344663&plusmn;0.1075291 -28.8426    0.107772   -0.107772 -28.842600&plusmn;0.107772 -22.4248     0.107126    -0.107126 -22.424800&plusmn;0.107126 7.8288  0.0671421 -0.0671421 7.8288000&plusmn;0.0671421  127.28       1.105      -1.087 <div><span class=\"supersubNumber\">127.280</span><span class=\"superscript\">+1.105</span><span class=\"subscript\">-1.087</span></div>  10.571       0.014      -0.014 10.571&plusmn;0.014    9.79        0.03       -0.03 9.79&plusmn;0.03   8.587       0.021      -0.021 8.587&plusmn;0.021   8.287       0.042      -0.042 8.287&plusmn;0.042   8.164       0.026      -0.026 207.526001,-40.8358961\n"
     ]
    }
   ],
   "source": [
    "print(planet[0])\n"
   ]
  },
  {
   "cell_type": "code",
   "execution_count": null,
   "metadata": {},
   "outputs": [],
   "source": []
  }
 ],
 "metadata": {
  "kernelspec": {
   "display_name": "Python 3",
   "language": "python",
   "name": "python3"
  },
  "language_info": {
   "codemirror_mode": {
    "name": "ipython",
    "version": 3
   },
   "file_extension": ".py",
   "mimetype": "text/x-python",
   "name": "python",
   "nbconvert_exporter": "python",
   "pygments_lexer": "ipython3",
   "version": "3.9.6"
  }
 },
 "nbformat": 4,
 "nbformat_minor": 2
}
